{
 "cells": [
  {
   "cell_type": "markdown",
   "metadata": {},
   "source": [
    "# Rename files by playlist ordering when downloaded by default using youtube-dl"
   ]
  },
  {
   "cell_type": "markdown",
   "metadata": {},
   "source": [
    "$ youtube-dl https://www.youtube.com/playlist?list=PLAwxTw4SYaPnIRwl6rad_mYwEk4Gmj7Mx -f best"
   ]
  },
  {
   "cell_type": "markdown",
   "metadata": {},
   "source": [
    "What I didn't expect was that videos downloaded from the playlist didn't have a sequential ordering (by default). You can't really sort the videos by date modified either.\n",
    "\n",
    "You can manually specify the file naming format but I just used the default option."
   ]
  },
  {
   "cell_type": "markdown",
   "metadata": {},
   "source": [
    "$ youtube-dl https://www.youtube.com/playlist?list=PLAwxTw4SYaPnIRwl6rad_mYwEk4Gmj7Mx -f best -o '%(playlist_index)s-%(title)s-%(id)s.%(ext)s'"
   ]
  },
  {
   "cell_type": "markdown",
   "metadata": {},
   "source": [
    "I really didn't want to delete the files and download it again. I generated the video titles and id using youtube-dl. Option -e generates the video title and --get-id generates the id."
   ]
  },
  {
   "cell_type": "markdown",
   "metadata": {},
   "source": [
    "$ youtube-dl https://www.youtube.com/playlist\\?list\\=PLAwxTw4SYaPn_OWPFT9ulXLuQrImzHfOV -e --get-id"
   ]
  },
  {
   "cell_type": "markdown",
   "metadata": {},
   "source": [
    "Output:"
   ]
  },
  {
   "cell_type": "markdown",
   "metadata": {},
   "source": [
    "Introduction\n",
    "s5xKxliBMTo\n",
    "Three parts to the course\n",
    "iATS6Qao9qM\n",
    "Textbooks\n",
    "JnMSh-Etz18"
   ]
  },
  {
   "cell_type": "markdown",
   "metadata": {},
   "source": [
    "Downloaded files:"
   ]
  },
  {
   "cell_type": "markdown",
   "metadata": {},
   "source": [
    "Introduction-s5xKxliBMTo.mp4\n",
    "Three parts to the course-iATS6Qao9qM.mp4\n",
    "Textbooks-JnMSh-Etz18.mp4"
   ]
  },
  {
   "cell_type": "markdown",
   "metadata": {},
   "source": [
    "Let's just write the titles and id to a file."
   ]
  },
  {
   "cell_type": "markdown",
   "metadata": {},
   "source": [
    "$ youtube-dl https://www.youtube.com/playlist\\?list\\=PLAwxTw4SYaPnIRwl6rad_mYwEk4Gmj7Mx -e --get-id > order.txt"
   ]
  },
  {
   "cell_type": "markdown",
   "metadata": {},
   "source": [
    "Read the file using Python"
   ]
  },
  {
   "cell_type": "code",
   "execution_count": null,
   "metadata": {
    "collapsed": true
   },
   "outputs": [],
   "source": [
    "with open('order.txt', 'r') as f:\n",
    "    names = f.readlines()"
   ]
  },
  {
   "cell_type": "markdown",
   "metadata": {},
   "source": [
    "Now, remove the newlines"
   ]
  },
  {
   "cell_type": "code",
   "execution_count": null,
   "metadata": {
    "collapsed": true
   },
   "outputs": [],
   "source": [
    "names = [x.strip() for x in names]"
   ]
  },
  {
   "cell_type": "markdown",
   "metadata": {},
   "source": [
    ">>> names\n",
    "['Introduction', 's5xKxliBMTo', 'Three parts to the course', 'iATS6Qao9qM', 'Textbooks', 'JnMSh-Etz18', 'Prerequisites', 'ZwVrqtexfgQ', 'Introduction', 'LtTAO7RPGQU', 'The Data', 'WnKjnL2JDSg', 'Our Stock Data', 'M2res0zhqjo', 'Pandas Dataframe', '_3Rnv0Z3sIA', 'Actual CSV', 'qn2wSJ2Crfo', 'Interesting Stuff', '2UEzsw5n-II', 'Compute max closing price', 'y9yNIgy681Q'......"
   ]
  },
  {
   "cell_type": "markdown",
   "metadata": {},
   "source": [
    "Let's get the title and id in the same line"
   ]
  },
  {
   "cell_type": "code",
   "execution_count": null,
   "metadata": {
    "collapsed": true
   },
   "outputs": [],
   "source": [
    "result = []\n",
    "i = 0\n",
    "while i < 3*len(names):\n",
    "    print names[i] + \"-\" + names[i+1]\n",
    "    result.append(str(names[i] + \"-\" + names[i+1]))\n",
    "    i = i + 2"
   ]
  },
  {
   "cell_type": "markdown",
   "metadata": {},
   "source": [
    ">>> Introduction-s5xKxliBMTo\n",
    "Three parts to the course-iATS6Qao9qM\n",
    "Textbooks-JnMSh-Etz18\n",
    "Prerequisites-ZwVrqtexfgQ\n",
    "Introduction-LtTAO7RPGQU\n",
    "The Data-WnKjnL2JDSg\n",
    "Our Stock Data-M2res0zhqjo\n",
    "Pandas Dataframe-_3Rnv0Z3sIA\n",
    "Actual CSV-qn2wSJ2Crfo\n",
    "\n",
    "\n",
    "Alright, now we have the ordered title and ids. Change directory to the downloaded folder. Now let's us rename the files according to the order."
   ]
  },
  {
   "cell_type": "code",
   "execution_count": null,
   "metadata": {
    "collapsed": true
   },
   "outputs": [],
   "source": [
    "import os\n",
    "for x,y,z in os.walk('.'):\n",
    "    for i in z:\n",
    "        for j in result:\n",
    "            if i==(j+'.mp4'):\n",
    "                os.rename(str(j)+'.mp4',str(result.index(j))+\"-\"+j)"
   ]
  },
  {
   "cell_type": "markdown",
   "metadata": {},
   "source": [
    "[os.walk](https://docs.python.org/2/library/os.html#os.walk) returns a tuple containing dirpath, dirnames, filenames. Here z contains the filenames. \n",
    "\n",
    "Let's run through the sorted list result and if the current file is in the result list, rename it by adding the index. Remember, our ordered list contained the titles and id by the playlist ordering, the first element is the first title and so on.\n",
    "\n",
    "You can do it in a more concise way, but this was way too simple to understand."
   ]
  }
 ],
 "metadata": {
  "kernelspec": {
   "display_name": "Python 2",
   "language": "python",
   "name": "python2"
  },
  "language_info": {
   "codemirror_mode": {
    "name": "ipython",
    "version": 2
   },
   "file_extension": ".py",
   "mimetype": "text/x-python",
   "name": "python",
   "nbconvert_exporter": "python",
   "pygments_lexer": "ipython2",
   "version": "2.7.13"
  }
 },
 "nbformat": 4,
 "nbformat_minor": 2
}
